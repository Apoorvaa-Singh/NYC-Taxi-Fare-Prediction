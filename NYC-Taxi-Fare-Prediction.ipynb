{
 "cells": [
  {
   "cell_type": "markdown",
   "id": "cf7e48a8",
   "metadata": {},
   "source": [
    "# New York City Taxi "
   ]
  },
  {
   "cell_type": "markdown",
   "id": "94e690b1",
   "metadata": {},
   "source": [
    "<p> In this machine learning model we would predict the fare amount - inclusive of tolls - for a taxi ride in New York city given the pickup and drop location. </p>"
   ]
  },
  {
   "cell_type": "markdown",
   "id": "34b302ad",
   "metadata": {},
   "source": [
    "Outline for the project:\n",
    "- Download the dataset\n",
    "- Explore & analyze the data\n",
    "- prepare the dataset for the ML training\n",
    "- Train hardcoded & baseline models\n",
    "- Make prediction\n",
    "- Perform feature engineering\n",
    "- Train and evaluate different models\n",
    "- Tune hyperparameters for best models\n",
    "- Document & Publish"
   ]
  },
  {
   "cell_type": "markdown",
   "id": "109c1c21",
   "metadata": {},
   "source": [
    "## Download the dataset & Import the libraries"
   ]
  },
  {
   "cell_type": "code",
   "execution_count": 1,
   "id": "0488566c",
   "metadata": {},
   "outputs": [],
   "source": [
    "!pip install opendatasets --quiet"
   ]
  },
  {
   "cell_type": "markdown",
   "id": "1d329bd6",
   "metadata": {},
   "source": [
    "We would use <b>opendatasets</b> library to download the data directly from kaggle. "
   ]
  },
  {
   "cell_type": "code",
   "execution_count": 1,
   "id": "18fb0a58",
   "metadata": {},
   "outputs": [],
   "source": [
    "import opendatasets as od\n",
    "dataset_url = \"https://www.kaggle.com/competitions/new-york-city-taxi-fare-prediction\"\n",
    "od.download(dataset_url)"
   ]
  },
  {
   "cell_type": "code",
   "execution_count": 7,
   "id": "1d8f6061",
   "metadata": {},
   "outputs": [
    {
     "name": "stdout",
     "output_type": "stream",
     "text": [
      "C:\\Users\\apoor\\OneDrive\\Documents\\PythonDataAnalysis\\machine-learning-models\n"
     ]
    }
   ],
   "source": [
    "%cd C:\\Users\\apoor\\OneDrive\\Documents\\PythonDataAnalysis\\machine-learning-models"
   ]
  },
  {
   "cell_type": "code",
   "execution_count": 20,
   "id": "ac8ad9fe",
   "metadata": {},
   "outputs": [
    {
     "name": "stdout",
     "output_type": "stream",
     "text": [
      " Volume in drive C is Windows-SSD\n",
      " Volume Serial Number is 0658-F810\n",
      "\n",
      " Directory of C:\\Users\\apoor\\OneDrive\\Documents\\PythonDataAnalysis\\machine-learning-models\\new-york-city-taxi-fare-prediction\n",
      "\n",
      "01-10-2022  23:30    <DIR>          .\n",
      "02-10-2022  00:53    <DIR>          ..\n",
      "01-10-2022  23:30               486 GCP-Coupons-Instructions.rtf\n",
      "01-10-2022  23:30           343,271 sample_submission.csv\n",
      "01-10-2022  23:30           983,020 test.csv\n",
      "01-10-2022  23:30     5,697,178,298 train.csv\n",
      "               4 File(s)  5,698,505,075 bytes\n",
      "               2 Dir(s)  227,666,272,256 bytes free\n"
     ]
    }
   ],
   "source": [
    "!dir \"C:\\Users\\apoor\\OneDrive\\Documents\\PythonDataAnalysis\\machine-learning-models\\new-york-city-taxi-fare-prediction\""
   ]
  },
  {
   "cell_type": "markdown",
   "id": "498f19a2",
   "metadata": {},
   "source": [
    "It is 5.4 GB of Dataset - mostly of which is the training dataset. We would use this data to train our model and test the results on test data. "
   ]
  },
  {
   "cell_type": "markdown",
   "id": "5995a791",
   "metadata": {},
   "source": [
    "When we work with large amount of data  - always start to work with sample data - may be 1% of the entire dataset. \n",
    "Loading the data set to pandas would be slow, so will be using the following optimisation\n",
    " 1. ignore Key column [Because we wont need the unique identifier in the training set]\n",
    " 2. parse pickup datetime while loading the data\n",
    " 3. Specify the Datatype for columns as: float for geo coordinates, float for fare amount & uint8 for count\n",
    " \n",
    "We would apply these changes while loading data using pandas."
   ]
  },
  {
   "cell_type": "markdown",
   "id": "7c3209c3",
   "metadata": {},
   "source": [
    "<h5> Importing the Libraries </h5>"
   ]
  },
  {
   "cell_type": "code",
   "execution_count": 1,
   "id": "13c3a66a",
   "metadata": {},
   "outputs": [],
   "source": [
    "import pandas as pd\n",
    "import numpy as np\n",
    "import random"
   ]
  },
  {
   "cell_type": "markdown",
   "id": "e8773c23",
   "metadata": {},
   "source": [
    "<h5> Importing the training dataset</h5>\n",
    "We would import the 1% of the dataset for our initial analysis"
   ]
  },
  {
   "cell_type": "code",
   "execution_count": 2,
   "id": "816232ce",
   "metadata": {},
   "outputs": [],
   "source": [
    "# We are importing this data to see the number of columns, column types etc in the data.  \n",
    "sample = pd.read_csv(\"train.csv\",nrows = 10)"
   ]
  },
  {
   "cell_type": "code",
   "execution_count": 3,
   "id": "cf9d6a43",
   "metadata": {},
   "outputs": [
    {
     "data": {
      "text/html": [
       "<div>\n",
       "<style scoped>\n",
       "    .dataframe tbody tr th:only-of-type {\n",
       "        vertical-align: middle;\n",
       "    }\n",
       "\n",
       "    .dataframe tbody tr th {\n",
       "        vertical-align: top;\n",
       "    }\n",
       "\n",
       "    .dataframe thead th {\n",
       "        text-align: right;\n",
       "    }\n",
       "</style>\n",
       "<table border=\"1\" class=\"dataframe\">\n",
       "  <thead>\n",
       "    <tr style=\"text-align: right;\">\n",
       "      <th></th>\n",
       "      <th>key</th>\n",
       "      <th>fare_amount</th>\n",
       "      <th>pickup_datetime</th>\n",
       "      <th>pickup_longitude</th>\n",
       "      <th>pickup_latitude</th>\n",
       "      <th>dropoff_longitude</th>\n",
       "      <th>dropoff_latitude</th>\n",
       "      <th>passenger_count</th>\n",
       "    </tr>\n",
       "  </thead>\n",
       "  <tbody>\n",
       "    <tr>\n",
       "      <th>0</th>\n",
       "      <td>2009-06-15 17:26:21.0000001</td>\n",
       "      <td>4.5</td>\n",
       "      <td>2009-06-15 17:26:21 UTC</td>\n",
       "      <td>-73.844311</td>\n",
       "      <td>40.721319</td>\n",
       "      <td>-73.841610</td>\n",
       "      <td>40.712278</td>\n",
       "      <td>1</td>\n",
       "    </tr>\n",
       "    <tr>\n",
       "      <th>1</th>\n",
       "      <td>2010-01-05 16:52:16.0000002</td>\n",
       "      <td>16.9</td>\n",
       "      <td>2010-01-05 16:52:16 UTC</td>\n",
       "      <td>-74.016048</td>\n",
       "      <td>40.711303</td>\n",
       "      <td>-73.979268</td>\n",
       "      <td>40.782004</td>\n",
       "      <td>1</td>\n",
       "    </tr>\n",
       "    <tr>\n",
       "      <th>2</th>\n",
       "      <td>2011-08-18 00:35:00.00000049</td>\n",
       "      <td>5.7</td>\n",
       "      <td>2011-08-18 00:35:00 UTC</td>\n",
       "      <td>-73.982738</td>\n",
       "      <td>40.761270</td>\n",
       "      <td>-73.991242</td>\n",
       "      <td>40.750562</td>\n",
       "      <td>2</td>\n",
       "    </tr>\n",
       "    <tr>\n",
       "      <th>3</th>\n",
       "      <td>2012-04-21 04:30:42.0000001</td>\n",
       "      <td>7.7</td>\n",
       "      <td>2012-04-21 04:30:42 UTC</td>\n",
       "      <td>-73.987130</td>\n",
       "      <td>40.733143</td>\n",
       "      <td>-73.991567</td>\n",
       "      <td>40.758092</td>\n",
       "      <td>1</td>\n",
       "    </tr>\n",
       "    <tr>\n",
       "      <th>4</th>\n",
       "      <td>2010-03-09 07:51:00.000000135</td>\n",
       "      <td>5.3</td>\n",
       "      <td>2010-03-09 07:51:00 UTC</td>\n",
       "      <td>-73.968095</td>\n",
       "      <td>40.768008</td>\n",
       "      <td>-73.956655</td>\n",
       "      <td>40.783762</td>\n",
       "      <td>1</td>\n",
       "    </tr>\n",
       "    <tr>\n",
       "      <th>5</th>\n",
       "      <td>2011-01-06 09:50:45.0000002</td>\n",
       "      <td>12.1</td>\n",
       "      <td>2011-01-06 09:50:45 UTC</td>\n",
       "      <td>-74.000964</td>\n",
       "      <td>40.731630</td>\n",
       "      <td>-73.972892</td>\n",
       "      <td>40.758233</td>\n",
       "      <td>1</td>\n",
       "    </tr>\n",
       "    <tr>\n",
       "      <th>6</th>\n",
       "      <td>2012-11-20 20:35:00.0000001</td>\n",
       "      <td>7.5</td>\n",
       "      <td>2012-11-20 20:35:00 UTC</td>\n",
       "      <td>-73.980002</td>\n",
       "      <td>40.751662</td>\n",
       "      <td>-73.973802</td>\n",
       "      <td>40.764842</td>\n",
       "      <td>1</td>\n",
       "    </tr>\n",
       "    <tr>\n",
       "      <th>7</th>\n",
       "      <td>2012-01-04 17:22:00.00000081</td>\n",
       "      <td>16.5</td>\n",
       "      <td>2012-01-04 17:22:00 UTC</td>\n",
       "      <td>-73.951300</td>\n",
       "      <td>40.774138</td>\n",
       "      <td>-73.990095</td>\n",
       "      <td>40.751048</td>\n",
       "      <td>1</td>\n",
       "    </tr>\n",
       "    <tr>\n",
       "      <th>8</th>\n",
       "      <td>2012-12-03 13:10:00.000000125</td>\n",
       "      <td>9.0</td>\n",
       "      <td>2012-12-03 13:10:00 UTC</td>\n",
       "      <td>-74.006462</td>\n",
       "      <td>40.726713</td>\n",
       "      <td>-73.993078</td>\n",
       "      <td>40.731628</td>\n",
       "      <td>1</td>\n",
       "    </tr>\n",
       "    <tr>\n",
       "      <th>9</th>\n",
       "      <td>2009-09-02 01:11:00.00000083</td>\n",
       "      <td>8.9</td>\n",
       "      <td>2009-09-02 01:11:00 UTC</td>\n",
       "      <td>-73.980658</td>\n",
       "      <td>40.733873</td>\n",
       "      <td>-73.991540</td>\n",
       "      <td>40.758138</td>\n",
       "      <td>2</td>\n",
       "    </tr>\n",
       "  </tbody>\n",
       "</table>\n",
       "</div>"
      ],
      "text/plain": [
       "                             key  fare_amount          pickup_datetime  \\\n",
       "0    2009-06-15 17:26:21.0000001          4.5  2009-06-15 17:26:21 UTC   \n",
       "1    2010-01-05 16:52:16.0000002         16.9  2010-01-05 16:52:16 UTC   \n",
       "2   2011-08-18 00:35:00.00000049          5.7  2011-08-18 00:35:00 UTC   \n",
       "3    2012-04-21 04:30:42.0000001          7.7  2012-04-21 04:30:42 UTC   \n",
       "4  2010-03-09 07:51:00.000000135          5.3  2010-03-09 07:51:00 UTC   \n",
       "5    2011-01-06 09:50:45.0000002         12.1  2011-01-06 09:50:45 UTC   \n",
       "6    2012-11-20 20:35:00.0000001          7.5  2012-11-20 20:35:00 UTC   \n",
       "7   2012-01-04 17:22:00.00000081         16.5  2012-01-04 17:22:00 UTC   \n",
       "8  2012-12-03 13:10:00.000000125          9.0  2012-12-03 13:10:00 UTC   \n",
       "9   2009-09-02 01:11:00.00000083          8.9  2009-09-02 01:11:00 UTC   \n",
       "\n",
       "   pickup_longitude  pickup_latitude  dropoff_longitude  dropoff_latitude  \\\n",
       "0        -73.844311        40.721319         -73.841610         40.712278   \n",
       "1        -74.016048        40.711303         -73.979268         40.782004   \n",
       "2        -73.982738        40.761270         -73.991242         40.750562   \n",
       "3        -73.987130        40.733143         -73.991567         40.758092   \n",
       "4        -73.968095        40.768008         -73.956655         40.783762   \n",
       "5        -74.000964        40.731630         -73.972892         40.758233   \n",
       "6        -73.980002        40.751662         -73.973802         40.764842   \n",
       "7        -73.951300        40.774138         -73.990095         40.751048   \n",
       "8        -74.006462        40.726713         -73.993078         40.731628   \n",
       "9        -73.980658        40.733873         -73.991540         40.758138   \n",
       "\n",
       "   passenger_count  \n",
       "0                1  \n",
       "1                1  \n",
       "2                2  \n",
       "3                1  \n",
       "4                1  \n",
       "5                1  \n",
       "6                1  \n",
       "7                1  \n",
       "8                1  \n",
       "9                2  "
      ]
     },
     "execution_count": 3,
     "metadata": {},
     "output_type": "execute_result"
    }
   ],
   "source": [
    "sample"
   ]
  },
  {
   "cell_type": "code",
   "execution_count": 4,
   "id": "490864d7",
   "metadata": {},
   "outputs": [],
   "source": [
    "import_dtypes ={\n",
    "    'fare_amount':'float32',\n",
    "    'pickup_longitude':'float32',\n",
    "    'pickup_latitude':'float32',\n",
    "    'dropoff_longitude':'float32',\n",
    "    'dropoff_latitude':'float32',\n",
    "    'passenger_count':'uint8'    \n",
    "}"
   ]
  },
  {
   "cell_type": "code",
   "execution_count": 5,
   "id": "beb92c49",
   "metadata": {},
   "outputs": [],
   "source": [
    "#Creating a function to generate random numbers for 1% data\n",
    "sample_fraction = 0.01 \n",
    "\n",
    "random.seed(42)\n",
    "def skip_row(idx):\n",
    "    if idx == 0:\n",
    "        return False\n",
    "    return random.random()> sample_fraction\n"
   ]
  },
  {
   "cell_type": "code",
   "execution_count": 6,
   "id": "53eb4ea0",
   "metadata": {},
   "outputs": [],
   "source": [
    "# Actual Sample Data import for the machine learning moodel\n",
    "prediction_sample_data = pd.read_csv(\"train.csv\", \n",
    "                                     usecols = sample.columns[1:], \n",
    "                                     parse_dates = [\"pickup_datetime\"],\n",
    "                                     dtype = import_dtypes,\n",
    "                                     skiprows = skip_row)"
   ]
  },
  {
   "cell_type": "code",
   "execution_count": 7,
   "id": "fa298a26",
   "metadata": {},
   "outputs": [
    {
     "data": {
      "text/html": [
       "<div>\n",
       "<style scoped>\n",
       "    .dataframe tbody tr th:only-of-type {\n",
       "        vertical-align: middle;\n",
       "    }\n",
       "\n",
       "    .dataframe tbody tr th {\n",
       "        vertical-align: top;\n",
       "    }\n",
       "\n",
       "    .dataframe thead th {\n",
       "        text-align: right;\n",
       "    }\n",
       "</style>\n",
       "<table border=\"1\" class=\"dataframe\">\n",
       "  <thead>\n",
       "    <tr style=\"text-align: right;\">\n",
       "      <th></th>\n",
       "      <th>fare_amount</th>\n",
       "      <th>pickup_datetime</th>\n",
       "      <th>pickup_longitude</th>\n",
       "      <th>pickup_latitude</th>\n",
       "      <th>dropoff_longitude</th>\n",
       "      <th>dropoff_latitude</th>\n",
       "      <th>passenger_count</th>\n",
       "    </tr>\n",
       "  </thead>\n",
       "  <tbody>\n",
       "    <tr>\n",
       "      <th>0</th>\n",
       "      <td>4.0</td>\n",
       "      <td>2014-12-06 20:36:22+00:00</td>\n",
       "      <td>-73.979813</td>\n",
       "      <td>40.751904</td>\n",
       "      <td>-73.979446</td>\n",
       "      <td>40.755482</td>\n",
       "      <td>1</td>\n",
       "    </tr>\n",
       "    <tr>\n",
       "      <th>1</th>\n",
       "      <td>8.0</td>\n",
       "      <td>2013-01-17 17:22:00+00:00</td>\n",
       "      <td>0.000000</td>\n",
       "      <td>0.000000</td>\n",
       "      <td>0.000000</td>\n",
       "      <td>0.000000</td>\n",
       "      <td>2</td>\n",
       "    </tr>\n",
       "    <tr>\n",
       "      <th>2</th>\n",
       "      <td>8.9</td>\n",
       "      <td>2011-06-15 18:07:00+00:00</td>\n",
       "      <td>-73.996330</td>\n",
       "      <td>40.753223</td>\n",
       "      <td>-73.978897</td>\n",
       "      <td>40.766964</td>\n",
       "      <td>3</td>\n",
       "    </tr>\n",
       "    <tr>\n",
       "      <th>3</th>\n",
       "      <td>6.9</td>\n",
       "      <td>2009-12-14 12:33:00+00:00</td>\n",
       "      <td>-73.982430</td>\n",
       "      <td>40.745747</td>\n",
       "      <td>-73.982430</td>\n",
       "      <td>40.745747</td>\n",
       "      <td>1</td>\n",
       "    </tr>\n",
       "    <tr>\n",
       "      <th>4</th>\n",
       "      <td>7.0</td>\n",
       "      <td>2013-11-06 11:26:54+00:00</td>\n",
       "      <td>-73.959061</td>\n",
       "      <td>40.781059</td>\n",
       "      <td>-73.962059</td>\n",
       "      <td>40.768604</td>\n",
       "      <td>1</td>\n",
       "    </tr>\n",
       "    <tr>\n",
       "      <th>...</th>\n",
       "      <td>...</td>\n",
       "      <td>...</td>\n",
       "      <td>...</td>\n",
       "      <td>...</td>\n",
       "      <td>...</td>\n",
       "      <td>...</td>\n",
       "      <td>...</td>\n",
       "    </tr>\n",
       "    <tr>\n",
       "      <th>552445</th>\n",
       "      <td>45.0</td>\n",
       "      <td>2014-02-06 23:59:45+00:00</td>\n",
       "      <td>-73.973587</td>\n",
       "      <td>40.747669</td>\n",
       "      <td>-73.999916</td>\n",
       "      <td>40.602894</td>\n",
       "      <td>1</td>\n",
       "    </tr>\n",
       "    <tr>\n",
       "      <th>552446</th>\n",
       "      <td>22.5</td>\n",
       "      <td>2015-01-05 15:29:08+00:00</td>\n",
       "      <td>-73.935928</td>\n",
       "      <td>40.799656</td>\n",
       "      <td>-73.985710</td>\n",
       "      <td>40.726952</td>\n",
       "      <td>2</td>\n",
       "    </tr>\n",
       "    <tr>\n",
       "      <th>552447</th>\n",
       "      <td>4.5</td>\n",
       "      <td>2013-02-17 22:27:00+00:00</td>\n",
       "      <td>-73.992531</td>\n",
       "      <td>40.748619</td>\n",
       "      <td>-73.998436</td>\n",
       "      <td>40.740143</td>\n",
       "      <td>1</td>\n",
       "    </tr>\n",
       "    <tr>\n",
       "      <th>552448</th>\n",
       "      <td>14.5</td>\n",
       "      <td>2013-01-27 12:41:00+00:00</td>\n",
       "      <td>-74.012115</td>\n",
       "      <td>40.706635</td>\n",
       "      <td>-73.988724</td>\n",
       "      <td>40.756218</td>\n",
       "      <td>1</td>\n",
       "    </tr>\n",
       "    <tr>\n",
       "      <th>552449</th>\n",
       "      <td>6.0</td>\n",
       "      <td>2014-10-18 07:51:00+00:00</td>\n",
       "      <td>-73.997681</td>\n",
       "      <td>40.724380</td>\n",
       "      <td>-73.994148</td>\n",
       "      <td>40.717796</td>\n",
       "      <td>1</td>\n",
       "    </tr>\n",
       "  </tbody>\n",
       "</table>\n",
       "<p>552450 rows × 7 columns</p>\n",
       "</div>"
      ],
      "text/plain": [
       "        fare_amount           pickup_datetime  pickup_longitude  \\\n",
       "0               4.0 2014-12-06 20:36:22+00:00        -73.979813   \n",
       "1               8.0 2013-01-17 17:22:00+00:00          0.000000   \n",
       "2               8.9 2011-06-15 18:07:00+00:00        -73.996330   \n",
       "3               6.9 2009-12-14 12:33:00+00:00        -73.982430   \n",
       "4               7.0 2013-11-06 11:26:54+00:00        -73.959061   \n",
       "...             ...                       ...               ...   \n",
       "552445         45.0 2014-02-06 23:59:45+00:00        -73.973587   \n",
       "552446         22.5 2015-01-05 15:29:08+00:00        -73.935928   \n",
       "552447          4.5 2013-02-17 22:27:00+00:00        -73.992531   \n",
       "552448         14.5 2013-01-27 12:41:00+00:00        -74.012115   \n",
       "552449          6.0 2014-10-18 07:51:00+00:00        -73.997681   \n",
       "\n",
       "        pickup_latitude  dropoff_longitude  dropoff_latitude  passenger_count  \n",
       "0             40.751904         -73.979446         40.755482                1  \n",
       "1              0.000000           0.000000          0.000000                2  \n",
       "2             40.753223         -73.978897         40.766964                3  \n",
       "3             40.745747         -73.982430         40.745747                1  \n",
       "4             40.781059         -73.962059         40.768604                1  \n",
       "...                 ...                ...               ...              ...  \n",
       "552445        40.747669         -73.999916         40.602894                1  \n",
       "552446        40.799656         -73.985710         40.726952                2  \n",
       "552447        40.748619         -73.998436         40.740143                1  \n",
       "552448        40.706635         -73.988724         40.756218                1  \n",
       "552449        40.724380         -73.994148         40.717796                1  \n",
       "\n",
       "[552450 rows x 7 columns]"
      ]
     },
     "execution_count": 7,
     "metadata": {},
     "output_type": "execute_result"
    }
   ],
   "source": [
    "prediction_sample_data"
   ]
  },
  {
   "cell_type": "markdown",
   "id": "4f6661ce",
   "metadata": {},
   "source": [
    "<h5>Importing the Test Dataset</h5>\n",
    "we would keep the key column in this import as we would use this for our submission "
   ]
  },
  {
   "cell_type": "code",
   "execution_count": 8,
   "id": "b8f3b926",
   "metadata": {},
   "outputs": [],
   "source": [
    "test_data = pd.read_csv(\"test.csv\", dtype = import_dtypes)"
   ]
  },
  {
   "cell_type": "code",
   "execution_count": 9,
   "id": "23779a6b",
   "metadata": {},
   "outputs": [
    {
     "data": {
      "text/html": [
       "<div>\n",
       "<style scoped>\n",
       "    .dataframe tbody tr th:only-of-type {\n",
       "        vertical-align: middle;\n",
       "    }\n",
       "\n",
       "    .dataframe tbody tr th {\n",
       "        vertical-align: top;\n",
       "    }\n",
       "\n",
       "    .dataframe thead th {\n",
       "        text-align: right;\n",
       "    }\n",
       "</style>\n",
       "<table border=\"1\" class=\"dataframe\">\n",
       "  <thead>\n",
       "    <tr style=\"text-align: right;\">\n",
       "      <th></th>\n",
       "      <th>key</th>\n",
       "      <th>pickup_datetime</th>\n",
       "      <th>pickup_longitude</th>\n",
       "      <th>pickup_latitude</th>\n",
       "      <th>dropoff_longitude</th>\n",
       "      <th>dropoff_latitude</th>\n",
       "      <th>passenger_count</th>\n",
       "    </tr>\n",
       "  </thead>\n",
       "  <tbody>\n",
       "    <tr>\n",
       "      <th>0</th>\n",
       "      <td>2015-01-27 13:08:24.0000002</td>\n",
       "      <td>2015-01-27 13:08:24 UTC</td>\n",
       "      <td>-73.973320</td>\n",
       "      <td>40.763805</td>\n",
       "      <td>-73.981430</td>\n",
       "      <td>40.743835</td>\n",
       "      <td>1</td>\n",
       "    </tr>\n",
       "    <tr>\n",
       "      <th>1</th>\n",
       "      <td>2015-01-27 13:08:24.0000003</td>\n",
       "      <td>2015-01-27 13:08:24 UTC</td>\n",
       "      <td>-73.986862</td>\n",
       "      <td>40.719383</td>\n",
       "      <td>-73.998886</td>\n",
       "      <td>40.739201</td>\n",
       "      <td>1</td>\n",
       "    </tr>\n",
       "    <tr>\n",
       "      <th>2</th>\n",
       "      <td>2011-10-08 11:53:44.0000002</td>\n",
       "      <td>2011-10-08 11:53:44 UTC</td>\n",
       "      <td>-73.982521</td>\n",
       "      <td>40.751259</td>\n",
       "      <td>-73.979652</td>\n",
       "      <td>40.746140</td>\n",
       "      <td>1</td>\n",
       "    </tr>\n",
       "    <tr>\n",
       "      <th>3</th>\n",
       "      <td>2012-12-01 21:12:12.0000002</td>\n",
       "      <td>2012-12-01 21:12:12 UTC</td>\n",
       "      <td>-73.981163</td>\n",
       "      <td>40.767807</td>\n",
       "      <td>-73.990448</td>\n",
       "      <td>40.751637</td>\n",
       "      <td>1</td>\n",
       "    </tr>\n",
       "    <tr>\n",
       "      <th>4</th>\n",
       "      <td>2012-12-01 21:12:12.0000003</td>\n",
       "      <td>2012-12-01 21:12:12 UTC</td>\n",
       "      <td>-73.966049</td>\n",
       "      <td>40.789776</td>\n",
       "      <td>-73.988564</td>\n",
       "      <td>40.744427</td>\n",
       "      <td>1</td>\n",
       "    </tr>\n",
       "    <tr>\n",
       "      <th>...</th>\n",
       "      <td>...</td>\n",
       "      <td>...</td>\n",
       "      <td>...</td>\n",
       "      <td>...</td>\n",
       "      <td>...</td>\n",
       "      <td>...</td>\n",
       "      <td>...</td>\n",
       "    </tr>\n",
       "    <tr>\n",
       "      <th>9909</th>\n",
       "      <td>2015-05-10 12:37:51.0000002</td>\n",
       "      <td>2015-05-10 12:37:51 UTC</td>\n",
       "      <td>-73.968124</td>\n",
       "      <td>40.796997</td>\n",
       "      <td>-73.955643</td>\n",
       "      <td>40.780388</td>\n",
       "      <td>6</td>\n",
       "    </tr>\n",
       "    <tr>\n",
       "      <th>9910</th>\n",
       "      <td>2015-01-12 17:05:51.0000001</td>\n",
       "      <td>2015-01-12 17:05:51 UTC</td>\n",
       "      <td>-73.945511</td>\n",
       "      <td>40.803600</td>\n",
       "      <td>-73.960213</td>\n",
       "      <td>40.776371</td>\n",
       "      <td>6</td>\n",
       "    </tr>\n",
       "    <tr>\n",
       "      <th>9911</th>\n",
       "      <td>2015-04-19 20:44:15.0000001</td>\n",
       "      <td>2015-04-19 20:44:15 UTC</td>\n",
       "      <td>-73.991600</td>\n",
       "      <td>40.726608</td>\n",
       "      <td>-73.789742</td>\n",
       "      <td>40.647011</td>\n",
       "      <td>6</td>\n",
       "    </tr>\n",
       "    <tr>\n",
       "      <th>9912</th>\n",
       "      <td>2015-01-31 01:05:19.0000005</td>\n",
       "      <td>2015-01-31 01:05:19 UTC</td>\n",
       "      <td>-73.985573</td>\n",
       "      <td>40.735432</td>\n",
       "      <td>-73.939178</td>\n",
       "      <td>40.801731</td>\n",
       "      <td>6</td>\n",
       "    </tr>\n",
       "    <tr>\n",
       "      <th>9913</th>\n",
       "      <td>2015-01-18 14:06:23.0000006</td>\n",
       "      <td>2015-01-18 14:06:23 UTC</td>\n",
       "      <td>-73.988022</td>\n",
       "      <td>40.754070</td>\n",
       "      <td>-74.000282</td>\n",
       "      <td>40.759220</td>\n",
       "      <td>6</td>\n",
       "    </tr>\n",
       "  </tbody>\n",
       "</table>\n",
       "<p>9914 rows × 7 columns</p>\n",
       "</div>"
      ],
      "text/plain": [
       "                              key          pickup_datetime  pickup_longitude  \\\n",
       "0     2015-01-27 13:08:24.0000002  2015-01-27 13:08:24 UTC        -73.973320   \n",
       "1     2015-01-27 13:08:24.0000003  2015-01-27 13:08:24 UTC        -73.986862   \n",
       "2     2011-10-08 11:53:44.0000002  2011-10-08 11:53:44 UTC        -73.982521   \n",
       "3     2012-12-01 21:12:12.0000002  2012-12-01 21:12:12 UTC        -73.981163   \n",
       "4     2012-12-01 21:12:12.0000003  2012-12-01 21:12:12 UTC        -73.966049   \n",
       "...                           ...                      ...               ...   \n",
       "9909  2015-05-10 12:37:51.0000002  2015-05-10 12:37:51 UTC        -73.968124   \n",
       "9910  2015-01-12 17:05:51.0000001  2015-01-12 17:05:51 UTC        -73.945511   \n",
       "9911  2015-04-19 20:44:15.0000001  2015-04-19 20:44:15 UTC        -73.991600   \n",
       "9912  2015-01-31 01:05:19.0000005  2015-01-31 01:05:19 UTC        -73.985573   \n",
       "9913  2015-01-18 14:06:23.0000006  2015-01-18 14:06:23 UTC        -73.988022   \n",
       "\n",
       "      pickup_latitude  dropoff_longitude  dropoff_latitude  passenger_count  \n",
       "0           40.763805         -73.981430         40.743835                1  \n",
       "1           40.719383         -73.998886         40.739201                1  \n",
       "2           40.751259         -73.979652         40.746140                1  \n",
       "3           40.767807         -73.990448         40.751637                1  \n",
       "4           40.789776         -73.988564         40.744427                1  \n",
       "...               ...                ...               ...              ...  \n",
       "9909        40.796997         -73.955643         40.780388                6  \n",
       "9910        40.803600         -73.960213         40.776371                6  \n",
       "9911        40.726608         -73.789742         40.647011                6  \n",
       "9912        40.735432         -73.939178         40.801731                6  \n",
       "9913        40.754070         -74.000282         40.759220                6  \n",
       "\n",
       "[9914 rows x 7 columns]"
      ]
     },
     "execution_count": 9,
     "metadata": {},
     "output_type": "execute_result"
    }
   ],
   "source": [
    "test_data"
   ]
  },
  {
   "cell_type": "markdown",
   "id": "e7277c64",
   "metadata": {},
   "source": [
    "<h2>Exploring the data sets </h2>"
   ]
  },
  {
   "cell_type": "code",
   "execution_count": 10,
   "id": "d923436d",
   "metadata": {},
   "outputs": [
    {
     "name": "stdout",
     "output_type": "stream",
     "text": [
      "<class 'pandas.core.frame.DataFrame'>\n",
      "RangeIndex: 552450 entries, 0 to 552449\n",
      "Data columns (total 7 columns):\n",
      " #   Column             Non-Null Count   Dtype              \n",
      "---  ------             --------------   -----              \n",
      " 0   fare_amount        552450 non-null  float32            \n",
      " 1   pickup_datetime    552450 non-null  datetime64[ns, UTC]\n",
      " 2   pickup_longitude   552450 non-null  float32            \n",
      " 3   pickup_latitude    552450 non-null  float32            \n",
      " 4   dropoff_longitude  552450 non-null  float32            \n",
      " 5   dropoff_latitude   552450 non-null  float32            \n",
      " 6   passenger_count    552450 non-null  uint8              \n",
      "dtypes: datetime64[ns, UTC](1), float32(5), uint8(1)\n",
      "memory usage: 15.3 MB\n"
     ]
    }
   ],
   "source": [
    "prediction_sample_data.info()"
   ]
  },
  {
   "cell_type": "code",
   "execution_count": 11,
   "id": "1e66d7d7",
   "metadata": {},
   "outputs": [
    {
     "data": {
      "text/html": [
       "<div>\n",
       "<style scoped>\n",
       "    .dataframe tbody tr th:only-of-type {\n",
       "        vertical-align: middle;\n",
       "    }\n",
       "\n",
       "    .dataframe tbody tr th {\n",
       "        vertical-align: top;\n",
       "    }\n",
       "\n",
       "    .dataframe thead th {\n",
       "        text-align: right;\n",
       "    }\n",
       "</style>\n",
       "<table border=\"1\" class=\"dataframe\">\n",
       "  <thead>\n",
       "    <tr style=\"text-align: right;\">\n",
       "      <th></th>\n",
       "      <th>fare_amount</th>\n",
       "      <th>pickup_longitude</th>\n",
       "      <th>pickup_latitude</th>\n",
       "      <th>dropoff_longitude</th>\n",
       "      <th>dropoff_latitude</th>\n",
       "      <th>passenger_count</th>\n",
       "    </tr>\n",
       "  </thead>\n",
       "  <tbody>\n",
       "    <tr>\n",
       "      <th>count</th>\n",
       "      <td>552450.000000</td>\n",
       "      <td>552450.000000</td>\n",
       "      <td>552450.000000</td>\n",
       "      <td>552450.000000</td>\n",
       "      <td>552450.000000</td>\n",
       "      <td>552450.000000</td>\n",
       "    </tr>\n",
       "    <tr>\n",
       "      <th>mean</th>\n",
       "      <td>11.354059</td>\n",
       "      <td>-72.497063</td>\n",
       "      <td>39.910500</td>\n",
       "      <td>-72.504326</td>\n",
       "      <td>39.934265</td>\n",
       "      <td>1.684983</td>\n",
       "    </tr>\n",
       "    <tr>\n",
       "      <th>std</th>\n",
       "      <td>9.811924</td>\n",
       "      <td>11.618246</td>\n",
       "      <td>8.061114</td>\n",
       "      <td>12.074346</td>\n",
       "      <td>9.255057</td>\n",
       "      <td>1.337664</td>\n",
       "    </tr>\n",
       "    <tr>\n",
       "      <th>min</th>\n",
       "      <td>-52.000000</td>\n",
       "      <td>-1183.362793</td>\n",
       "      <td>-3084.490234</td>\n",
       "      <td>-3356.729736</td>\n",
       "      <td>-2073.150635</td>\n",
       "      <td>0.000000</td>\n",
       "    </tr>\n",
       "    <tr>\n",
       "      <th>25%</th>\n",
       "      <td>6.000000</td>\n",
       "      <td>-73.992020</td>\n",
       "      <td>40.734875</td>\n",
       "      <td>-73.991425</td>\n",
       "      <td>40.733990</td>\n",
       "      <td>1.000000</td>\n",
       "    </tr>\n",
       "    <tr>\n",
       "      <th>50%</th>\n",
       "      <td>8.500000</td>\n",
       "      <td>-73.981819</td>\n",
       "      <td>40.752621</td>\n",
       "      <td>-73.980179</td>\n",
       "      <td>40.753101</td>\n",
       "      <td>1.000000</td>\n",
       "    </tr>\n",
       "    <tr>\n",
       "      <th>75%</th>\n",
       "      <td>12.500000</td>\n",
       "      <td>-73.967155</td>\n",
       "      <td>40.767036</td>\n",
       "      <td>-73.963737</td>\n",
       "      <td>40.768059</td>\n",
       "      <td>2.000000</td>\n",
       "    </tr>\n",
       "    <tr>\n",
       "      <th>max</th>\n",
       "      <td>499.000000</td>\n",
       "      <td>2420.209473</td>\n",
       "      <td>404.983337</td>\n",
       "      <td>2467.752686</td>\n",
       "      <td>3351.403076</td>\n",
       "      <td>208.000000</td>\n",
       "    </tr>\n",
       "  </tbody>\n",
       "</table>\n",
       "</div>"
      ],
      "text/plain": [
       "         fare_amount  pickup_longitude  pickup_latitude  dropoff_longitude  \\\n",
       "count  552450.000000     552450.000000    552450.000000      552450.000000   \n",
       "mean       11.354059        -72.497063        39.910500         -72.504326   \n",
       "std         9.811924         11.618246         8.061114          12.074346   \n",
       "min       -52.000000      -1183.362793     -3084.490234       -3356.729736   \n",
       "25%         6.000000        -73.992020        40.734875         -73.991425   \n",
       "50%         8.500000        -73.981819        40.752621         -73.980179   \n",
       "75%        12.500000        -73.967155        40.767036         -73.963737   \n",
       "max       499.000000       2420.209473       404.983337        2467.752686   \n",
       "\n",
       "       dropoff_latitude  passenger_count  \n",
       "count     552450.000000    552450.000000  \n",
       "mean          39.934265         1.684983  \n",
       "std            9.255057         1.337664  \n",
       "min        -2073.150635         0.000000  \n",
       "25%           40.733990         1.000000  \n",
       "50%           40.753101         1.000000  \n",
       "75%           40.768059         2.000000  \n",
       "max         3351.403076       208.000000  "
      ]
     },
     "execution_count": 11,
     "metadata": {},
     "output_type": "execute_result"
    }
   ],
   "source": [
    "prediction_sample_data.describe()"
   ]
  },
  {
   "cell_type": "code",
   "execution_count": 12,
   "id": "bcf8d124",
   "metadata": {},
   "outputs": [
    {
     "data": {
      "text/plain": [
       "(Timestamp('2009-01-01 00:11:46+0000', tz='UTC'),\n",
       " Timestamp('2015-06-30 23:59:54+0000', tz='UTC'))"
      ]
     },
     "execution_count": 12,
     "metadata": {},
     "output_type": "execute_result"
    }
   ],
   "source": [
    "prediction_sample_data[\"pickup_datetime\"].min(), prediction_sample_data[\"pickup_datetime\"].max()"
   ]
  },
  {
   "cell_type": "markdown",
   "id": "abd08d7e",
   "metadata": {},
   "source": [
    "The data were currently looking at is for 6 years. \n",
    "\n",
    "1. There are 552k rows in 7 column\n",
    "2. No null values \n",
    "3. The 1% sample data is utilizing 15.3 MB (we should be watchful)\n",
    "4. Fare amount ranges from -52 to 499: 11.35 being the mean\n",
    "5. The passenger ranges from 1 to 208\n",
    "6. There is some issue with the longitude & latitude \n",
    "                                                      "
   ]
  },
  {
   "cell_type": "code",
   "execution_count": 13,
   "id": "577abb75",
   "metadata": {},
   "outputs": [
    {
     "name": "stdout",
     "output_type": "stream",
     "text": [
      "<class 'pandas.core.frame.DataFrame'>\n",
      "RangeIndex: 9914 entries, 0 to 9913\n",
      "Data columns (total 7 columns):\n",
      " #   Column             Non-Null Count  Dtype  \n",
      "---  ------             --------------  -----  \n",
      " 0   key                9914 non-null   object \n",
      " 1   pickup_datetime    9914 non-null   object \n",
      " 2   pickup_longitude   9914 non-null   float32\n",
      " 3   pickup_latitude    9914 non-null   float32\n",
      " 4   dropoff_longitude  9914 non-null   float32\n",
      " 5   dropoff_latitude   9914 non-null   float32\n",
      " 6   passenger_count    9914 non-null   uint8  \n",
      "dtypes: float32(4), object(2), uint8(1)\n",
      "memory usage: 319.6+ KB\n"
     ]
    }
   ],
   "source": [
    "test_data.info()"
   ]
  },
  {
   "cell_type": "code",
   "execution_count": 14,
   "id": "62e58bb2",
   "metadata": {},
   "outputs": [
    {
     "data": {
      "text/html": [
       "<div>\n",
       "<style scoped>\n",
       "    .dataframe tbody tr th:only-of-type {\n",
       "        vertical-align: middle;\n",
       "    }\n",
       "\n",
       "    .dataframe tbody tr th {\n",
       "        vertical-align: top;\n",
       "    }\n",
       "\n",
       "    .dataframe thead th {\n",
       "        text-align: right;\n",
       "    }\n",
       "</style>\n",
       "<table border=\"1\" class=\"dataframe\">\n",
       "  <thead>\n",
       "    <tr style=\"text-align: right;\">\n",
       "      <th></th>\n",
       "      <th>pickup_longitude</th>\n",
       "      <th>pickup_latitude</th>\n",
       "      <th>dropoff_longitude</th>\n",
       "      <th>dropoff_latitude</th>\n",
       "      <th>passenger_count</th>\n",
       "    </tr>\n",
       "  </thead>\n",
       "  <tbody>\n",
       "    <tr>\n",
       "      <th>count</th>\n",
       "      <td>9914.000000</td>\n",
       "      <td>9914.000000</td>\n",
       "      <td>9914.000000</td>\n",
       "      <td>9914.000000</td>\n",
       "      <td>9914.000000</td>\n",
       "    </tr>\n",
       "    <tr>\n",
       "      <th>mean</th>\n",
       "      <td>-73.974716</td>\n",
       "      <td>40.751041</td>\n",
       "      <td>-73.973656</td>\n",
       "      <td>40.751740</td>\n",
       "      <td>1.671273</td>\n",
       "    </tr>\n",
       "    <tr>\n",
       "      <th>std</th>\n",
       "      <td>0.042774</td>\n",
       "      <td>0.033541</td>\n",
       "      <td>0.039072</td>\n",
       "      <td>0.035435</td>\n",
       "      <td>1.278747</td>\n",
       "    </tr>\n",
       "    <tr>\n",
       "      <th>min</th>\n",
       "      <td>-74.252190</td>\n",
       "      <td>40.573143</td>\n",
       "      <td>-74.263245</td>\n",
       "      <td>40.568974</td>\n",
       "      <td>1.000000</td>\n",
       "    </tr>\n",
       "    <tr>\n",
       "      <th>25%</th>\n",
       "      <td>-73.992500</td>\n",
       "      <td>40.736125</td>\n",
       "      <td>-73.991249</td>\n",
       "      <td>40.735253</td>\n",
       "      <td>1.000000</td>\n",
       "    </tr>\n",
       "    <tr>\n",
       "      <th>50%</th>\n",
       "      <td>-73.982327</td>\n",
       "      <td>40.753052</td>\n",
       "      <td>-73.980015</td>\n",
       "      <td>40.754065</td>\n",
       "      <td>1.000000</td>\n",
       "    </tr>\n",
       "    <tr>\n",
       "      <th>75%</th>\n",
       "      <td>-73.968012</td>\n",
       "      <td>40.767113</td>\n",
       "      <td>-73.964062</td>\n",
       "      <td>40.768757</td>\n",
       "      <td>2.000000</td>\n",
       "    </tr>\n",
       "    <tr>\n",
       "      <th>max</th>\n",
       "      <td>-72.986534</td>\n",
       "      <td>41.709557</td>\n",
       "      <td>-72.990967</td>\n",
       "      <td>41.696682</td>\n",
       "      <td>6.000000</td>\n",
       "    </tr>\n",
       "  </tbody>\n",
       "</table>\n",
       "</div>"
      ],
      "text/plain": [
       "       pickup_longitude  pickup_latitude  dropoff_longitude  dropoff_latitude  \\\n",
       "count       9914.000000      9914.000000        9914.000000       9914.000000   \n",
       "mean         -73.974716        40.751041         -73.973656         40.751740   \n",
       "std            0.042774         0.033541           0.039072          0.035435   \n",
       "min          -74.252190        40.573143         -74.263245         40.568974   \n",
       "25%          -73.992500        40.736125         -73.991249         40.735253   \n",
       "50%          -73.982327        40.753052         -73.980015         40.754065   \n",
       "75%          -73.968012        40.767113         -73.964062         40.768757   \n",
       "max          -72.986534        41.709557         -72.990967         41.696682   \n",
       "\n",
       "       passenger_count  \n",
       "count      9914.000000  \n",
       "mean          1.671273  \n",
       "std           1.278747  \n",
       "min           1.000000  \n",
       "25%           1.000000  \n",
       "50%           1.000000  \n",
       "75%           2.000000  \n",
       "max           6.000000  "
      ]
     },
     "execution_count": 14,
     "metadata": {},
     "output_type": "execute_result"
    }
   ],
   "source": [
    "test_data.describe()"
   ]
  },
  {
   "cell_type": "markdown",
   "id": "7e3ce8bd",
   "metadata": {},
   "source": [
    "Since the Test data represent the real world data - we can safely play between the data ranges in the test data set for longitute & latitude. Therefore we will remove the data from the training dataset following outside this range. This will drop the outlier and the invalid data points. "
   ]
  },
  {
   "cell_type": "markdown",
   "id": "1accc6f1",
   "metadata": {},
   "source": [
    "<h2> Exploratory Data Analysis</h2>"
   ]
  },
  {
   "cell_type": "markdown",
   "id": "ae89596b",
   "metadata": {},
   "source": [
    "Create Graphs like - histograms, line charts, bar & scatter plots - to study the distributions of values in each column and the relationship of each input with the target\n",
    "\n",
    "1. What is the businest day of the week\n",
    "2. businest time\n",
    "3. is there a relation between date/time with fare\n",
    "4. month wise fare\n",
    "5. is the fare pick location dependent\n",
    "6. is the fare drop of location dependent\n",
    "7. average distance\n",
    "\n",
    "\n",
    "\n",
    "Asking more questions about the data will help you develop deeper understanding of the data. "
   ]
  },
  {
   "cell_type": "markdown",
   "id": "a39abb5e",
   "metadata": {},
   "source": [
    "<h5> Adding detailed Date/time info </h5>"
   ]
  },
  {
   "cell_type": "code",
   "execution_count": null,
   "id": "eb80ecc0",
   "metadata": {},
   "outputs": [],
   "source": []
  },
  {
   "cell_type": "markdown",
   "id": "ba6edb73",
   "metadata": {},
   "source": [
    "<h2> Preparing the Dataset for Training </h2>"
   ]
  },
  {
   "cell_type": "markdown",
   "id": "4acdfef2",
   "metadata": {},
   "source": [
    "1. Split the training & validation data\n",
    "2. fill/ remove the missing values\n",
    "3. Extracts inputs and outputs. "
   ]
  },
  {
   "cell_type": "markdown",
   "id": "0ee6df70",
   "metadata": {},
   "source": [
    "We will set aside 20% of the training dataset for the validation of our model. We would use the random sampling. </n> We have to take care that every time we have the same dataset for validation there for setting the random_state. Otherwise there would be an issue of data leakage."
   ]
  },
  {
   "cell_type": "markdown",
   "id": "1b3db07a",
   "metadata": {},
   "source": [
    "<h5> Splitting the dataset</h5>"
   ]
  },
  {
   "cell_type": "code",
   "execution_count": 15,
   "id": "770142f4",
   "metadata": {},
   "outputs": [],
   "source": [
    "from sklearn.model_selection import train_test_split"
   ]
  },
  {
   "cell_type": "code",
   "execution_count": 16,
   "id": "6d27ba97",
   "metadata": {},
   "outputs": [],
   "source": [
    "train_data, validation_data = train_test_split(prediction_sample_data, test_size = 0.2,random_state=42 )"
   ]
  },
  {
   "cell_type": "code",
   "execution_count": 17,
   "id": "a3dd77e6",
   "metadata": {},
   "outputs": [
    {
     "data": {
      "text/plain": [
       "(441960, 110490)"
      ]
     },
     "execution_count": 17,
     "metadata": {},
     "output_type": "execute_result"
    }
   ],
   "source": [
    "len(train_data), len(validation_data)"
   ]
  },
  {
   "cell_type": "markdown",
   "id": "01edd9f8",
   "metadata": {},
   "source": [
    "<h5> Missing Values </h5>"
   ]
  },
  {
   "cell_type": "markdown",
   "id": "24a9f484",
   "metadata": {},
   "source": [
    "The data we are looking at does not have any missing value. But since this only the 1% of the entire data, we would simply drop the rows with missing value instead of trying to fill them. We would do this for both - the test data and the validation data. "
   ]
  },
  {
   "cell_type": "code",
   "execution_count": 18,
   "id": "49eeec06",
   "metadata": {},
   "outputs": [],
   "source": [
    "train_data = train_data.dropna()\n",
    "validation_data = validation_data.dropna()"
   ]
  },
  {
   "cell_type": "markdown",
   "id": "79ed9bc0",
   "metadata": {},
   "source": [
    "Since the inputs and outputs needs to be passed separately in the machine learning model, we need to create separate variables for them"
   ]
  },
  {
   "cell_type": "markdown",
   "id": "3e6695e6",
   "metadata": {},
   "source": [
    "<h5> Extracting the inputs and outputs </h5>"
   ]
  },
  {
   "cell_type": "markdown",
   "id": "ac29dbe9",
   "metadata": {},
   "source": [
    "Before we train our model, we need to separate the inputs and outputs because they are passed separately in the machine learning models. "
   ]
  },
  {
   "cell_type": "code",
   "execution_count": 19,
   "id": "93e3aefd",
   "metadata": {},
   "outputs": [
    {
     "data": {
      "text/plain": [
       "Index(['fare_amount', 'pickup_datetime', 'pickup_longitude', 'pickup_latitude',\n",
       "       'dropoff_longitude', 'dropoff_latitude', 'passenger_count'],\n",
       "      dtype='object')"
      ]
     },
     "execution_count": 19,
     "metadata": {},
     "output_type": "execute_result"
    }
   ],
   "source": [
    "train_data.columns"
   ]
  },
  {
   "cell_type": "markdown",
   "id": "8ae43bd2",
   "metadata": {},
   "source": [
    "We by itself cant pass the datetime column in the machine learning modelbecause its a timestamp not a number. (We only pass the numbers in the model)"
   ]
  },
  {
   "cell_type": "code",
   "execution_count": 20,
   "id": "c50c7153",
   "metadata": {},
   "outputs": [],
   "source": [
    "input_cols = ['pickup_longitude', 'pickup_latitude',\n",
    "       'dropoff_longitude', 'dropoff_latitude', 'passenger_count']\n",
    "target_col = ['fare_amount']"
   ]
  },
  {
   "cell_type": "markdown",
   "id": "f385a2ed",
   "metadata": {},
   "source": [
    "<h5> Training the data </h5>"
   ]
  },
  {
   "cell_type": "code",
   "execution_count": 22,
   "id": "c4e8016b",
   "metadata": {},
   "outputs": [],
   "source": [
    "train_input  = train_data[input_cols]\n",
    "train_target = train_data[target_col]"
   ]
  },
  {
   "cell_type": "code",
   "execution_count": 23,
   "id": "fa407f15",
   "metadata": {},
   "outputs": [
    {
     "data": {
      "text/html": [
       "<div>\n",
       "<style scoped>\n",
       "    .dataframe tbody tr th:only-of-type {\n",
       "        vertical-align: middle;\n",
       "    }\n",
       "\n",
       "    .dataframe tbody tr th {\n",
       "        vertical-align: top;\n",
       "    }\n",
       "\n",
       "    .dataframe thead th {\n",
       "        text-align: right;\n",
       "    }\n",
       "</style>\n",
       "<table border=\"1\" class=\"dataframe\">\n",
       "  <thead>\n",
       "    <tr style=\"text-align: right;\">\n",
       "      <th></th>\n",
       "      <th>pickup_longitude</th>\n",
       "      <th>pickup_latitude</th>\n",
       "      <th>dropoff_longitude</th>\n",
       "      <th>dropoff_latitude</th>\n",
       "      <th>passenger_count</th>\n",
       "    </tr>\n",
       "  </thead>\n",
       "  <tbody>\n",
       "    <tr>\n",
       "      <th>353352</th>\n",
       "      <td>-73.993652</td>\n",
       "      <td>40.741543</td>\n",
       "      <td>-73.977974</td>\n",
       "      <td>40.742352</td>\n",
       "      <td>4</td>\n",
       "    </tr>\n",
       "    <tr>\n",
       "      <th>360070</th>\n",
       "      <td>-73.993805</td>\n",
       "      <td>40.724579</td>\n",
       "      <td>-73.993805</td>\n",
       "      <td>40.724579</td>\n",
       "      <td>1</td>\n",
       "    </tr>\n",
       "    <tr>\n",
       "      <th>372609</th>\n",
       "      <td>-73.959160</td>\n",
       "      <td>40.780750</td>\n",
       "      <td>-73.969116</td>\n",
       "      <td>40.761230</td>\n",
       "      <td>1</td>\n",
       "    </tr>\n",
       "    <tr>\n",
       "      <th>550895</th>\n",
       "      <td>-73.952187</td>\n",
       "      <td>40.783951</td>\n",
       "      <td>-73.978645</td>\n",
       "      <td>40.772602</td>\n",
       "      <td>1</td>\n",
       "    </tr>\n",
       "    <tr>\n",
       "      <th>444151</th>\n",
       "      <td>-73.977112</td>\n",
       "      <td>40.746834</td>\n",
       "      <td>-73.991104</td>\n",
       "      <td>40.750404</td>\n",
       "      <td>2</td>\n",
       "    </tr>\n",
       "    <tr>\n",
       "      <th>...</th>\n",
       "      <td>...</td>\n",
       "      <td>...</td>\n",
       "      <td>...</td>\n",
       "      <td>...</td>\n",
       "      <td>...</td>\n",
       "    </tr>\n",
       "    <tr>\n",
       "      <th>110268</th>\n",
       "      <td>-73.987152</td>\n",
       "      <td>40.750633</td>\n",
       "      <td>-73.979073</td>\n",
       "      <td>40.763168</td>\n",
       "      <td>1</td>\n",
       "    </tr>\n",
       "    <tr>\n",
       "      <th>259178</th>\n",
       "      <td>-73.972656</td>\n",
       "      <td>40.764042</td>\n",
       "      <td>-74.013176</td>\n",
       "      <td>40.707840</td>\n",
       "      <td>2</td>\n",
       "    </tr>\n",
       "    <tr>\n",
       "      <th>365838</th>\n",
       "      <td>-73.991982</td>\n",
       "      <td>40.749767</td>\n",
       "      <td>-73.989845</td>\n",
       "      <td>40.720551</td>\n",
       "      <td>3</td>\n",
       "    </tr>\n",
       "    <tr>\n",
       "      <th>131932</th>\n",
       "      <td>-73.969055</td>\n",
       "      <td>40.761398</td>\n",
       "      <td>-73.990814</td>\n",
       "      <td>40.751328</td>\n",
       "      <td>1</td>\n",
       "    </tr>\n",
       "    <tr>\n",
       "      <th>121958</th>\n",
       "      <td>-73.983040</td>\n",
       "      <td>40.742142</td>\n",
       "      <td>-74.002510</td>\n",
       "      <td>40.727650</td>\n",
       "      <td>1</td>\n",
       "    </tr>\n",
       "  </tbody>\n",
       "</table>\n",
       "<p>441960 rows × 5 columns</p>\n",
       "</div>"
      ],
      "text/plain": [
       "        pickup_longitude  pickup_latitude  dropoff_longitude  \\\n",
       "353352        -73.993652        40.741543         -73.977974   \n",
       "360070        -73.993805        40.724579         -73.993805   \n",
       "372609        -73.959160        40.780750         -73.969116   \n",
       "550895        -73.952187        40.783951         -73.978645   \n",
       "444151        -73.977112        40.746834         -73.991104   \n",
       "...                  ...              ...                ...   \n",
       "110268        -73.987152        40.750633         -73.979073   \n",
       "259178        -73.972656        40.764042         -74.013176   \n",
       "365838        -73.991982        40.749767         -73.989845   \n",
       "131932        -73.969055        40.761398         -73.990814   \n",
       "121958        -73.983040        40.742142         -74.002510   \n",
       "\n",
       "        dropoff_latitude  passenger_count  \n",
       "353352         40.742352                4  \n",
       "360070         40.724579                1  \n",
       "372609         40.761230                1  \n",
       "550895         40.772602                1  \n",
       "444151         40.750404                2  \n",
       "...                  ...              ...  \n",
       "110268         40.763168                1  \n",
       "259178         40.707840                2  \n",
       "365838         40.720551                3  \n",
       "131932         40.751328                1  \n",
       "121958         40.727650                1  \n",
       "\n",
       "[441960 rows x 5 columns]"
      ]
     },
     "execution_count": 23,
     "metadata": {},
     "output_type": "execute_result"
    }
   ],
   "source": [
    "train_input"
   ]
  },
  {
   "cell_type": "code",
   "execution_count": 24,
   "id": "558e43b9",
   "metadata": {},
   "outputs": [
    {
     "data": {
      "text/html": [
       "<div>\n",
       "<style scoped>\n",
       "    .dataframe tbody tr th:only-of-type {\n",
       "        vertical-align: middle;\n",
       "    }\n",
       "\n",
       "    .dataframe tbody tr th {\n",
       "        vertical-align: top;\n",
       "    }\n",
       "\n",
       "    .dataframe thead th {\n",
       "        text-align: right;\n",
       "    }\n",
       "</style>\n",
       "<table border=\"1\" class=\"dataframe\">\n",
       "  <thead>\n",
       "    <tr style=\"text-align: right;\">\n",
       "      <th></th>\n",
       "      <th>fare_amount</th>\n",
       "    </tr>\n",
       "  </thead>\n",
       "  <tbody>\n",
       "    <tr>\n",
       "      <th>353352</th>\n",
       "      <td>6.0</td>\n",
       "    </tr>\n",
       "    <tr>\n",
       "      <th>360070</th>\n",
       "      <td>3.7</td>\n",
       "    </tr>\n",
       "    <tr>\n",
       "      <th>372609</th>\n",
       "      <td>10.0</td>\n",
       "    </tr>\n",
       "    <tr>\n",
       "      <th>550895</th>\n",
       "      <td>8.9</td>\n",
       "    </tr>\n",
       "    <tr>\n",
       "      <th>444151</th>\n",
       "      <td>7.3</td>\n",
       "    </tr>\n",
       "    <tr>\n",
       "      <th>...</th>\n",
       "      <td>...</td>\n",
       "    </tr>\n",
       "    <tr>\n",
       "      <th>110268</th>\n",
       "      <td>9.3</td>\n",
       "    </tr>\n",
       "    <tr>\n",
       "      <th>259178</th>\n",
       "      <td>18.5</td>\n",
       "    </tr>\n",
       "    <tr>\n",
       "      <th>365838</th>\n",
       "      <td>10.1</td>\n",
       "    </tr>\n",
       "    <tr>\n",
       "      <th>131932</th>\n",
       "      <td>10.9</td>\n",
       "    </tr>\n",
       "    <tr>\n",
       "      <th>121958</th>\n",
       "      <td>9.5</td>\n",
       "    </tr>\n",
       "  </tbody>\n",
       "</table>\n",
       "<p>441960 rows × 1 columns</p>\n",
       "</div>"
      ],
      "text/plain": [
       "        fare_amount\n",
       "353352          6.0\n",
       "360070          3.7\n",
       "372609         10.0\n",
       "550895          8.9\n",
       "444151          7.3\n",
       "...             ...\n",
       "110268          9.3\n",
       "259178         18.5\n",
       "365838         10.1\n",
       "131932         10.9\n",
       "121958          9.5\n",
       "\n",
       "[441960 rows x 1 columns]"
      ]
     },
     "execution_count": 24,
     "metadata": {},
     "output_type": "execute_result"
    }
   ],
   "source": [
    "train_target"
   ]
  },
  {
   "cell_type": "code",
   "execution_count": 25,
   "id": "31c5641a",
   "metadata": {},
   "outputs": [],
   "source": [
    "val_inputs = validation_data[input_cols]\n",
    "val_target = validation_data[target_col]"
   ]
  },
  {
   "cell_type": "code",
   "execution_count": 26,
   "id": "83930cbf",
   "metadata": {},
   "outputs": [],
   "source": [
    "test_inputs = test_data[input_cols]"
   ]
  },
  {
   "cell_type": "markdown",
   "id": "8263c1ee",
   "metadata": {},
   "source": [
    "<h2> Train Hardcoded & Baseline Models </h2>"
   ]
  },
  {
   "cell_type": "markdown",
   "id": "f02ce5a6",
   "metadata": {},
   "source": [
    "We should alwsys begin with the simple hardcoded or baseline model to establish the minimum score any ML model should beat. \n",
    "* Hardcoded Model - always predict the average fare\n",
    "* basline Model - is Linear regression"
   ]
  },
  {
   "cell_type": "markdown",
   "id": "bfee4eaa",
   "metadata": {},
   "source": [
    "We will create a model that will predict average. It will give us the baseline to beat. \n",
    "* fit is used to train our simple model. Since this is a simple model, we are ignoring the inputs and checking our targets directly. \n",
    "* predict takes a bunch of inputs and create target. "
   ]
  },
  {
   "cell_type": "code",
   "execution_count": 34,
   "id": "e92c9ed1",
   "metadata": {},
   "outputs": [],
   "source": [
    "# Defining the Model\n",
    "class MeanRegressor:\n",
    "    def fit(self, inputs, targets):\n",
    "        self.mean = targets.mean()\n",
    "    \n",
    "    def predict(self, inputs):\n",
    "        return np.full(inputs.shape[0], self.mean)"
   ]
  },
  {
   "cell_type": "code",
   "execution_count": 35,
   "id": "bd6c08c7",
   "metadata": {},
   "outputs": [],
   "source": [
    "#Creating the mean regressor model\n",
    "mean_model = MeanRegressor()\n",
    "mean_model.fit(train_input, train_target)"
   ]
  },
  {
   "cell_type": "code",
   "execution_count": 36,
   "id": "28e06a81",
   "metadata": {},
   "outputs": [
    {
     "data": {
      "text/plain": [
       "fare_amount    11.354714\n",
       "dtype: float32"
      ]
     },
     "execution_count": 36,
     "metadata": {},
     "output_type": "execute_result"
    }
   ],
   "source": [
    "mean_model.mean"
   ]
  },
  {
   "cell_type": "code",
   "execution_count": 37,
   "id": "10f1706d",
   "metadata": {},
   "outputs": [
    {
     "data": {
      "text/plain": [
       "array([11.354714, 11.354714, 11.354714, ..., 11.354714, 11.354714,\n",
       "       11.354714], dtype=float32)"
      ]
     },
     "execution_count": 37,
     "metadata": {},
     "output_type": "execute_result"
    }
   ],
   "source": [
    "train_predict = mean_model.predict(train_input)\n",
    "train_predict"
   ]
  },
  {
   "cell_type": "markdown",
   "id": "c5589828",
   "metadata": {},
   "source": [
    "To know how good our model is we need to compare the train_predict values with the train_target"
   ]
  },
  {
   "cell_type": "code",
   "execution_count": 38,
   "id": "02ea7a67",
   "metadata": {},
   "outputs": [],
   "source": [
    "from sklearn.metrics import mean_squared_error"
   ]
  },
  {
   "cell_type": "code",
   "execution_count": 39,
   "id": "b3c5cef3",
   "metadata": {},
   "outputs": [],
   "source": [
    "def rmse(targets,predictions):\n",
    "    return mean_squared_error(targets, predictions, squared=False)"
   ]
  },
  {
   "cell_type": "code",
   "execution_count": 43,
   "id": "3be4efd0",
   "metadata": {},
   "outputs": [
    {
     "data": {
      "text/plain": [
       "9.789782"
      ]
     },
     "execution_count": 43,
     "metadata": {},
     "output_type": "execute_result"
    }
   ],
   "source": [
    "train_rmse = rmse(train_target, train_predict)\n",
    "train_rmse"
   ]
  },
  {
   "cell_type": "markdown",
   "id": "f75df4cd",
   "metadata": {},
   "source": [
    "Any model we train should be having a RSME Value lower than this one. "
   ]
  },
  {
   "cell_type": "code",
   "execution_count": 44,
   "id": "15d1acb1",
   "metadata": {},
   "outputs": [
    {
     "data": {
      "text/plain": [
       "array([11.354714, 11.354714, 11.354714, ..., 11.354714, 11.354714,\n",
       "       11.354714], dtype=float32)"
      ]
     },
     "execution_count": 44,
     "metadata": {},
     "output_type": "execute_result"
    }
   ],
   "source": [
    "val_predict = mean_model.predict(val_inputs)\n",
    "val_predict"
   ]
  },
  {
   "cell_type": "code",
   "execution_count": 45,
   "id": "3fb823fb",
   "metadata": {},
   "outputs": [
    {
     "data": {
      "text/plain": [
       "9.899954"
      ]
     },
     "execution_count": 45,
     "metadata": {},
     "output_type": "execute_result"
    }
   ],
   "source": [
    "val_rmse = rmse(val_target, val_predict)\n",
    "val_rmse"
   ]
  },
  {
   "cell_type": "markdown",
   "id": "1c6ee5f3",
   "metadata": {},
   "source": [
    "Our hardcoded model is off by \\\\$ 9.899 on average, which is pretty bad considering the average price is \\\\$11.35"
   ]
  },
  {
   "cell_type": "markdown",
   "id": "3f5dd985",
   "metadata": {},
   "source": [
    "<h5> Training & Evaluating the Baseline Model </h5>"
   ]
  },
  {
   "cell_type": "markdown",
   "id": "dedc5021",
   "metadata": {},
   "source": [
    "We will train a linear regression model as our baseline model, which tries to express the target as a weighted sum of the inputs. "
   ]
  },
  {
   "cell_type": "code",
   "execution_count": 46,
   "id": "db0478c2",
   "metadata": {},
   "outputs": [],
   "source": [
    "from sklearn.linear_model import LinearRegression"
   ]
  },
  {
   "cell_type": "code",
   "execution_count": 47,
   "id": "28d5e5ae",
   "metadata": {},
   "outputs": [],
   "source": [
    "linear_model = LinearRegression()"
   ]
  },
  {
   "cell_type": "code",
   "execution_count": 48,
   "id": "16ef683f",
   "metadata": {},
   "outputs": [
    {
     "data": {
      "text/html": [
       "<style>#sk-container-id-1 {color: black;background-color: white;}#sk-container-id-1 pre{padding: 0;}#sk-container-id-1 div.sk-toggleable {background-color: white;}#sk-container-id-1 label.sk-toggleable__label {cursor: pointer;display: block;width: 100%;margin-bottom: 0;padding: 0.3em;box-sizing: border-box;text-align: center;}#sk-container-id-1 label.sk-toggleable__label-arrow:before {content: \"▸\";float: left;margin-right: 0.25em;color: #696969;}#sk-container-id-1 label.sk-toggleable__label-arrow:hover:before {color: black;}#sk-container-id-1 div.sk-estimator:hover label.sk-toggleable__label-arrow:before {color: black;}#sk-container-id-1 div.sk-toggleable__content {max-height: 0;max-width: 0;overflow: hidden;text-align: left;background-color: #f0f8ff;}#sk-container-id-1 div.sk-toggleable__content pre {margin: 0.2em;color: black;border-radius: 0.25em;background-color: #f0f8ff;}#sk-container-id-1 input.sk-toggleable__control:checked~div.sk-toggleable__content {max-height: 200px;max-width: 100%;overflow: auto;}#sk-container-id-1 input.sk-toggleable__control:checked~label.sk-toggleable__label-arrow:before {content: \"▾\";}#sk-container-id-1 div.sk-estimator input.sk-toggleable__control:checked~label.sk-toggleable__label {background-color: #d4ebff;}#sk-container-id-1 div.sk-label input.sk-toggleable__control:checked~label.sk-toggleable__label {background-color: #d4ebff;}#sk-container-id-1 input.sk-hidden--visually {border: 0;clip: rect(1px 1px 1px 1px);clip: rect(1px, 1px, 1px, 1px);height: 1px;margin: -1px;overflow: hidden;padding: 0;position: absolute;width: 1px;}#sk-container-id-1 div.sk-estimator {font-family: monospace;background-color: #f0f8ff;border: 1px dotted black;border-radius: 0.25em;box-sizing: border-box;margin-bottom: 0.5em;}#sk-container-id-1 div.sk-estimator:hover {background-color: #d4ebff;}#sk-container-id-1 div.sk-parallel-item::after {content: \"\";width: 100%;border-bottom: 1px solid gray;flex-grow: 1;}#sk-container-id-1 div.sk-label:hover label.sk-toggleable__label {background-color: #d4ebff;}#sk-container-id-1 div.sk-serial::before {content: \"\";position: absolute;border-left: 1px solid gray;box-sizing: border-box;top: 0;bottom: 0;left: 50%;z-index: 0;}#sk-container-id-1 div.sk-serial {display: flex;flex-direction: column;align-items: center;background-color: white;padding-right: 0.2em;padding-left: 0.2em;position: relative;}#sk-container-id-1 div.sk-item {position: relative;z-index: 1;}#sk-container-id-1 div.sk-parallel {display: flex;align-items: stretch;justify-content: center;background-color: white;position: relative;}#sk-container-id-1 div.sk-item::before, #sk-container-id-1 div.sk-parallel-item::before {content: \"\";position: absolute;border-left: 1px solid gray;box-sizing: border-box;top: 0;bottom: 0;left: 50%;z-index: -1;}#sk-container-id-1 div.sk-parallel-item {display: flex;flex-direction: column;z-index: 1;position: relative;background-color: white;}#sk-container-id-1 div.sk-parallel-item:first-child::after {align-self: flex-end;width: 50%;}#sk-container-id-1 div.sk-parallel-item:last-child::after {align-self: flex-start;width: 50%;}#sk-container-id-1 div.sk-parallel-item:only-child::after {width: 0;}#sk-container-id-1 div.sk-dashed-wrapped {border: 1px dashed gray;margin: 0 0.4em 0.5em 0.4em;box-sizing: border-box;padding-bottom: 0.4em;background-color: white;}#sk-container-id-1 div.sk-label label {font-family: monospace;font-weight: bold;display: inline-block;line-height: 1.2em;}#sk-container-id-1 div.sk-label-container {text-align: center;}#sk-container-id-1 div.sk-container {/* jupyter's `normalize.less` sets `[hidden] { display: none; }` but bootstrap.min.css set `[hidden] { display: none !important; }` so we also need the `!important` here to be able to override the default hidden behavior on the sphinx rendered scikit-learn.org. See: https://github.com/scikit-learn/scikit-learn/issues/21755 */display: inline-block !important;position: relative;}#sk-container-id-1 div.sk-text-repr-fallback {display: none;}</style><div id=\"sk-container-id-1\" class=\"sk-top-container\"><div class=\"sk-text-repr-fallback\"><pre>LinearRegression()</pre><b>In a Jupyter environment, please rerun this cell to show the HTML representation or trust the notebook. <br />On GitHub, the HTML representation is unable to render, please try loading this page with nbviewer.org.</b></div><div class=\"sk-container\" hidden><div class=\"sk-item\"><div class=\"sk-estimator sk-toggleable\"><input class=\"sk-toggleable__control sk-hidden--visually\" id=\"sk-estimator-id-1\" type=\"checkbox\" checked><label for=\"sk-estimator-id-1\" class=\"sk-toggleable__label sk-toggleable__label-arrow\">LinearRegression</label><div class=\"sk-toggleable__content\"><pre>LinearRegression()</pre></div></div></div></div></div>"
      ],
      "text/plain": [
       "LinearRegression()"
      ]
     },
     "execution_count": 48,
     "metadata": {},
     "output_type": "execute_result"
    }
   ],
   "source": [
    "linear_model.fit(train_input,train_target)"
   ]
  },
  {
   "cell_type": "code",
   "execution_count": 49,
   "id": "f80b78fc",
   "metadata": {},
   "outputs": [],
   "source": [
    "train_linear_pred = linear_model.predict(train_input)"
   ]
  },
  {
   "cell_type": "code",
   "execution_count": 50,
   "id": "e719114d",
   "metadata": {},
   "outputs": [
    {
     "data": {
      "text/plain": [
       "array([[11.546237],\n",
       "       [11.28461 ],\n",
       "       [11.28414 ],\n",
       "       ...,\n",
       "       [11.458918],\n",
       "       [11.284281],\n",
       "       [11.284448]], dtype=float32)"
      ]
     },
     "execution_count": 50,
     "metadata": {},
     "output_type": "execute_result"
    }
   ],
   "source": [
    "train_linear_pred"
   ]
  },
  {
   "cell_type": "code",
   "execution_count": 51,
   "id": "add8f8dc",
   "metadata": {},
   "outputs": [
    {
     "data": {
      "text/plain": [
       "9.788632"
      ]
     },
     "execution_count": 51,
     "metadata": {},
     "output_type": "execute_result"
    }
   ],
   "source": [
    "rmse(train_target, train_linear_pred)"
   ]
  },
  {
   "cell_type": "code",
   "execution_count": 52,
   "id": "11cdd1eb",
   "metadata": {},
   "outputs": [
    {
     "data": {
      "text/plain": [
       "array([[11.284328 ],\n",
       "       [11.284496 ],\n",
       "       [11.2847805],\n",
       "       ...,\n",
       "       [11.8045   ],\n",
       "       [11.284433 ],\n",
       "       [11.284133 ]], dtype=float32)"
      ]
     },
     "execution_count": 52,
     "metadata": {},
     "output_type": "execute_result"
    }
   ],
   "source": [
    "val_linear_pred = linear_model.predict(val_inputs)\n",
    "val_linear_pred"
   ]
  },
  {
   "cell_type": "code",
   "execution_count": 53,
   "id": "776d3ed1",
   "metadata": {},
   "outputs": [
    {
     "data": {
      "text/plain": [
       "9.898088"
      ]
     },
     "execution_count": 53,
     "metadata": {},
     "output_type": "execute_result"
    }
   ],
   "source": [
    "rmse(val_target, val_linear_pred)"
   ]
  },
  {
   "cell_type": "markdown",
   "id": "9333092e",
   "metadata": {},
   "source": [
    "The Linear regression model is off by \\\\$ 9.89, which is not much better than simply predicting the average. \n",
    "This is mainly because the training data is not in a format useful for the prediction. And we are not using the most important column: pickup date and time. \n",
    "    "
   ]
  },
  {
   "cell_type": "code",
   "execution_count": null,
   "id": "a9d24a5e",
   "metadata": {},
   "outputs": [],
   "source": []
  }
 ],
 "metadata": {
  "kernelspec": {
   "display_name": "Python 3 (ipykernel)",
   "language": "python",
   "name": "python3"
  },
  "language_info": {
   "codemirror_mode": {
    "name": "ipython",
    "version": 3
   },
   "file_extension": ".py",
   "mimetype": "text/x-python",
   "name": "python",
   "nbconvert_exporter": "python",
   "pygments_lexer": "ipython3",
   "version": "3.10.7"
  }
 },
 "nbformat": 4,
 "nbformat_minor": 5
}
